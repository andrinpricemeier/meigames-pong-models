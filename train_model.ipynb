{
 "cells": [
  {
   "cell_type": "code",
   "execution_count": 1,
   "metadata": {},
   "outputs": [],
   "source": [
    "import numpy as np\n",
    "from sklearn.metrics import accuracy_score, f1_score, confusion_matrix\n",
    "from sklearn.metrics import plot_confusion_matrix\n",
    "from sklearn.model_selection import train_test_split\n",
    "from sklearn.preprocessing import StandardScaler\n",
    "import json\n",
    "from os import listdir\n",
    "from os.path import isfile, join\n",
    "from matplotlib import pyplot as plt\n",
    "import pandas as pd\n",
    "from sklearn.utils import resample\n",
    "from sklearn.neighbors import KNeighborsClassifier\n",
    "from sklearn.model_selection import GridSearchCV\n",
    "from sklearn.dummy import DummyClassifier\n",
    "from sklearn.ensemble import RandomForestClassifier"
   ]
  },
  {
   "cell_type": "code",
   "execution_count": 2,
   "metadata": {},
   "outputs": [],
   "source": [
    "files = [f for f in listdir(\"data\") if isfile(join(\"data\", f))]\n",
    "data = []\n",
    "for file in files:\n",
    "    with open(\"data/\" + file, \"r\", encoding='utf-8') as f:\n",
    "        data += json.load(f)\n",
    "cleaned = [entry for entry in data if entry[2] < 0] # remove those entries where the ball is flying in the direction of the opponent because we don't do anything in that case anyway."
   ]
  },
  {
   "cell_type": "code",
   "execution_count": 3,
   "metadata": {},
   "outputs": [],
   "source": [
    "copy = cleaned.copy()\n",
    "for entry in copy:\n",
    "    action = entry[6]\n",
    "    if action == [1, 0, 0]:\n",
    "        entry[6] = 'nothing'\n",
    "    elif action == [0, 1, 0]:\n",
    "        entry[6] = 'up'\n",
    "    else:\n",
    "        entry[6] = 'down'\n",
    "raw_data = np.array(copy)"
   ]
  },
  {
   "cell_type": "code",
   "execution_count": 4,
   "metadata": {},
   "outputs": [
    {
     "data": {
      "text/html": [
       "<div>\n",
       "<style scoped>\n",
       "    .dataframe tbody tr th:only-of-type {\n",
       "        vertical-align: middle;\n",
       "    }\n",
       "\n",
       "    .dataframe tbody tr th {\n",
       "        vertical-align: top;\n",
       "    }\n",
       "\n",
       "    .dataframe thead th {\n",
       "        text-align: right;\n",
       "    }\n",
       "</style>\n",
       "<table border=\"1\" class=\"dataframe\">\n",
       "  <thead>\n",
       "    <tr style=\"text-align: right;\">\n",
       "      <th></th>\n",
       "      <th>ballX</th>\n",
       "      <th>ballY</th>\n",
       "      <th>velocityX</th>\n",
       "      <th>velocityY</th>\n",
       "      <th>paddlePos1</th>\n",
       "      <th>paddlePos2</th>\n",
       "      <th>action</th>\n",
       "    </tr>\n",
       "  </thead>\n",
       "  <tbody>\n",
       "    <tr>\n",
       "      <th>0</th>\n",
       "      <td>0.5</td>\n",
       "      <td>0.5</td>\n",
       "      <td>-0.5000000000000004</td>\n",
       "      <td>-0.8660254037844385</td>\n",
       "      <td>0.5</td>\n",
       "      <td>0.5</td>\n",
       "      <td>nothing</td>\n",
       "    </tr>\n",
       "    <tr>\n",
       "      <th>1</th>\n",
       "      <td>0.48125</td>\n",
       "      <td>0.4566987298107781</td>\n",
       "      <td>-0.5000000000000004</td>\n",
       "      <td>-0.8660254037844385</td>\n",
       "      <td>0.5</td>\n",
       "      <td>0.5</td>\n",
       "      <td>nothing</td>\n",
       "    </tr>\n",
       "    <tr>\n",
       "      <th>2</th>\n",
       "      <td>0.4625</td>\n",
       "      <td>0.4133974596215561</td>\n",
       "      <td>-0.5000000000000004</td>\n",
       "      <td>-0.8660254037844385</td>\n",
       "      <td>0.5</td>\n",
       "      <td>0.5</td>\n",
       "      <td>nothing</td>\n",
       "    </tr>\n",
       "    <tr>\n",
       "      <th>3</th>\n",
       "      <td>0.4437499999999999</td>\n",
       "      <td>0.37009618943233424</td>\n",
       "      <td>-0.5000000000000004</td>\n",
       "      <td>-0.8660254037844385</td>\n",
       "      <td>0.5</td>\n",
       "      <td>0.5</td>\n",
       "      <td>nothing</td>\n",
       "    </tr>\n",
       "    <tr>\n",
       "      <th>4</th>\n",
       "      <td>0.42499999999999993</td>\n",
       "      <td>0.3267949192431123</td>\n",
       "      <td>-0.5000000000000004</td>\n",
       "      <td>-0.8660254037844385</td>\n",
       "      <td>0.5</td>\n",
       "      <td>0.5</td>\n",
       "      <td>nothing</td>\n",
       "    </tr>\n",
       "  </tbody>\n",
       "</table>\n",
       "</div>"
      ],
      "text/plain": [
       "                 ballX                ballY            velocityX  \\\n",
       "0                  0.5                  0.5  -0.5000000000000004   \n",
       "1              0.48125   0.4566987298107781  -0.5000000000000004   \n",
       "2               0.4625   0.4133974596215561  -0.5000000000000004   \n",
       "3   0.4437499999999999  0.37009618943233424  -0.5000000000000004   \n",
       "4  0.42499999999999993   0.3267949192431123  -0.5000000000000004   \n",
       "\n",
       "             velocityY paddlePos1 paddlePos2   action  \n",
       "0  -0.8660254037844385        0.5        0.5  nothing  \n",
       "1  -0.8660254037844385        0.5        0.5  nothing  \n",
       "2  -0.8660254037844385        0.5        0.5  nothing  \n",
       "3  -0.8660254037844385        0.5        0.5  nothing  \n",
       "4  -0.8660254037844385        0.5        0.5  nothing  "
      ]
     },
     "execution_count": 4,
     "metadata": {},
     "output_type": "execute_result"
    }
   ],
   "source": [
    "data = {'ballX': raw_data[:,0], 'ballY': raw_data[:,1], 'velocityX': raw_data[:,2], 'velocityY': raw_data[:,3], 'paddlePos1': raw_data[:,4], 'paddlePos2': raw_data[:,5], 'action': raw_data[:,6]}\n",
    "df = pd.DataFrame(data)\n",
    "df.head()"
   ]
  },
  {
   "cell_type": "code",
   "execution_count": 5,
   "metadata": {},
   "outputs": [
    {
     "data": {
      "text/plain": [
       "ballX         object\n",
       "ballY         object\n",
       "velocityX     object\n",
       "velocityY     object\n",
       "paddlePos1    object\n",
       "paddlePos2    object\n",
       "action        object\n",
       "dtype: object"
      ]
     },
     "execution_count": 5,
     "metadata": {},
     "output_type": "execute_result"
    }
   ],
   "source": [
    "df.dtypes"
   ]
  },
  {
   "cell_type": "code",
   "execution_count": 6,
   "metadata": {},
   "outputs": [],
   "source": [
    "df.ballX = df.ballX.astype(np.float32)\n",
    "df.ballY = df.ballY.astype(np.float32)\n",
    "df.velocityX = df.velocityX.astype(np.float32)\n",
    "df.velocityY = df.velocityY.astype(np.float32)\n",
    "df.paddlePos1 = df.paddlePos1.astype(np.float32)\n",
    "df.paddlePos2 = df.paddlePos2.astype(np.float32)\n",
    "df.action = df.action.astype('category')"
   ]
  },
  {
   "cell_type": "code",
   "execution_count": 7,
   "metadata": {},
   "outputs": [
    {
     "data": {
      "text/plain": [
       "ballX          float32\n",
       "ballY          float32\n",
       "velocityX      float32\n",
       "velocityY      float32\n",
       "paddlePos1     float32\n",
       "paddlePos2     float32\n",
       "action        category\n",
       "dtype: object"
      ]
     },
     "execution_count": 7,
     "metadata": {},
     "output_type": "execute_result"
    }
   ],
   "source": [
    "df.dtypes"
   ]
  },
  {
   "cell_type": "code",
   "execution_count": 8,
   "metadata": {},
   "outputs": [
    {
     "data": {
      "text/plain": [
       "<AxesSubplot:>"
      ]
     },
     "execution_count": 8,
     "metadata": {},
     "output_type": "execute_result"
    },
    {
     "data": {
      "image/png": "[encoded data removed]",
      "text/plain": [
       "<Figure size 432x288 with 1 Axes>"
      ]
     },
     "metadata": {
      "needs_background": "light"
     },
     "output_type": "display_data"
    }
   ],
   "source": [
    "df.action.value_counts().plot(kind='bar')"
   ]
  },
  {
   "cell_type": "code",
   "execution_count": 9,
   "metadata": {},
   "outputs": [
    {
     "name": "stdout",
     "output_type": "stream",
     "text": [
      "(1221, 7)\n",
      "(346, 7)\n",
      "(363, 7)\n"
     ]
    },
    {
     "data": {
      "text/plain": [
       "down       363\n",
       "up         346\n",
       "nothing    346\n",
       "Name: action, dtype: int64"
      ]
     },
     "execution_count": 9,
     "metadata": {},
     "output_type": "execute_result"
    }
   ],
   "source": [
    "df_majority = df[df.action == 'nothing']\n",
    "df_minority1 = df[df.action == 'up']\n",
    "df_minority2 = df[df.action == 'down']\n",
    "print(df_majority.shape)\n",
    "print(df_minority1.shape)\n",
    "print(df_minority2.shape)\n",
    "df_majority_downsampled = resample(df_majority, \n",
    "                                 replace=False,\n",
    "                                 n_samples=len(df_minority1),\n",
    "                                 random_state=42)\n",
    "df = pd.concat([df_majority_downsampled, df_minority1, df_minority2])\n",
    "df.action.value_counts()"
   ]
  },
  {
   "cell_type": "code",
   "execution_count": 10,
   "metadata": {},
   "outputs": [
    {
     "data": {
      "text/plain": [
       "<AxesSubplot:>"
      ]
     },
     "execution_count": 10,
     "metadata": {},
     "output_type": "execute_result"
    },
    {
     "data": {
      "image/png": "[encoded data removed]",
      "text/plain": [
       "<Figure size 432x288 with 1 Axes>"
      ]
     },
     "metadata": {
      "needs_background": "light"
     },
     "output_type": "display_data"
    }
   ],
   "source": [
    "df.action.value_counts().plot(kind='bar')"
   ]
  },
  {
   "cell_type": "code",
   "execution_count": 11,
   "metadata": {},
   "outputs": [],
   "source": [
    "X = df.drop('action', 1)\n",
    "y = df['action']"
   ]
  },
  {
   "cell_type": "code",
   "execution_count": 12,
   "metadata": {},
   "outputs": [
    {
     "data": {
      "text/html": [
       "<div>\n",
       "<style scoped>\n",
       "    .dataframe tbody tr th:only-of-type {\n",
       "        vertical-align: middle;\n",
       "    }\n",
       "\n",
       "    .dataframe tbody tr th {\n",
       "        vertical-align: top;\n",
       "    }\n",
       "\n",
       "    .dataframe thead th {\n",
       "        text-align: right;\n",
       "    }\n",
       "</style>\n",
       "<table border=\"1\" class=\"dataframe\">\n",
       "  <thead>\n",
       "    <tr style=\"text-align: right;\">\n",
       "      <th></th>\n",
       "      <th>ballX</th>\n",
       "      <th>ballY</th>\n",
       "      <th>velocityX</th>\n",
       "      <th>velocityY</th>\n",
       "      <th>paddlePos1</th>\n",
       "      <th>paddlePos2</th>\n",
       "    </tr>\n",
       "  </thead>\n",
       "  <tbody>\n",
       "    <tr>\n",
       "      <th>878</th>\n",
       "      <td>0.500000</td>\n",
       "      <td>0.500000</td>\n",
       "      <td>-0.939693</td>\n",
       "      <td>-0.342020</td>\n",
       "      <td>0.500000</td>\n",
       "      <td>0.500000</td>\n",
       "    </tr>\n",
       "    <tr>\n",
       "      <th>413</th>\n",
       "      <td>0.391858</td>\n",
       "      <td>0.458654</td>\n",
       "      <td>-0.961262</td>\n",
       "      <td>-0.275637</td>\n",
       "      <td>0.500000</td>\n",
       "      <td>0.500000</td>\n",
       "    </tr>\n",
       "    <tr>\n",
       "      <th>75</th>\n",
       "      <td>0.968750</td>\n",
       "      <td>0.803109</td>\n",
       "      <td>-0.500000</td>\n",
       "      <td>0.866025</td>\n",
       "      <td>0.666667</td>\n",
       "      <td>0.666667</td>\n",
       "    </tr>\n",
       "    <tr>\n",
       "      <th>1622</th>\n",
       "      <td>0.088905</td>\n",
       "      <td>0.255958</td>\n",
       "      <td>-0.913545</td>\n",
       "      <td>-0.406737</td>\n",
       "      <td>0.250000</td>\n",
       "      <td>0.250000</td>\n",
       "    </tr>\n",
       "    <tr>\n",
       "      <th>1208</th>\n",
       "      <td>0.838646</td>\n",
       "      <td>0.392099</td>\n",
       "      <td>-0.694658</td>\n",
       "      <td>-0.719340</td>\n",
       "      <td>0.541667</td>\n",
       "      <td>0.541667</td>\n",
       "    </tr>\n",
       "  </tbody>\n",
       "</table>\n",
       "</div>"
      ],
      "text/plain": [
       "         ballX     ballY  velocityX  velocityY  paddlePos1  paddlePos2\n",
       "878   0.500000  0.500000  -0.939693  -0.342020    0.500000    0.500000\n",
       "413   0.391858  0.458654  -0.961262  -0.275637    0.500000    0.500000\n",
       "75    0.968750  0.803109  -0.500000   0.866025    0.666667    0.666667\n",
       "1622  0.088905  0.255958  -0.913545  -0.406737    0.250000    0.250000\n",
       "1208  0.838646  0.392099  -0.694658  -0.719340    0.541667    0.541667"
      ]
     },
     "execution_count": 12,
     "metadata": {},
     "output_type": "execute_result"
    }
   ],
   "source": [
    "X.head()"
   ]
  },
  {
   "cell_type": "code",
   "execution_count": 13,
   "metadata": {},
   "outputs": [
    {
     "data": {
      "text/plain": [
       "878     nothing\n",
       "413     nothing\n",
       "75      nothing\n",
       "1622    nothing\n",
       "1208    nothing\n",
       "Name: action, dtype: category\n",
       "Categories (3, object): ['down', 'nothing', 'up']"
      ]
     },
     "execution_count": 13,
     "metadata": {},
     "output_type": "execute_result"
    }
   ],
   "source": [
    "y.head()"
   ]
  },
  {
   "cell_type": "code",
   "execution_count": 14,
   "metadata": {},
   "outputs": [
    {
     "data": {
      "text/plain": [
       "['nothing', 'nothing', 'nothing', 'nothing', 'nothing', ..., 'down', 'down', 'down', 'down', 'down']\n",
       "Length: 1055\n",
       "Categories (3, object): ['down', 'nothing', 'up']"
      ]
     },
     "execution_count": 14,
     "metadata": {},
     "output_type": "execute_result"
    }
   ],
   "source": [
    "y.values"
   ]
  },
  {
   "cell_type": "code",
   "execution_count": 15,
   "metadata": {},
   "outputs": [],
   "source": [
    "X_train, X_test, y_train, y_test = train_test_split(X, y, test_size=0.2, random_state=42)"
   ]
  },
  {
   "cell_type": "code",
   "execution_count": 16,
   "metadata": {},
   "outputs": [
    {
     "data": {
      "text/plain": [
       "array([[-0.8274886 , -0.25488177, -1.3991463 , -0.04858106, -0.37722465,\n",
       "        -0.37722465],\n",
       "       [-0.04080316, -0.39001167, -1.0098118 , -0.5940143 , -0.19350986,\n",
       "        -0.19350986],\n",
       "       [-0.4452511 , -1.1320022 , -0.02550229, -1.0490594 ,  1.6436371 ,\n",
       "         1.6436371 ],\n",
       "       ...,\n",
       "       [ 1.2838287 ,  1.6257343 ,  0.6206854 , -1.2281241 ,  0.90877813,\n",
       "         0.90877813],\n",
       "       [-1.4228243 ,  1.3018696 ,  0.46828625, -1.1907568 ,  1.8273518 ,\n",
       "         1.8273518 ],\n",
       "       [ 0.12878363, -0.32342294, -1.0098118 , -0.5940143 , -0.00979522,\n",
       "        -0.00979522]], dtype=float32)"
      ]
     },
     "execution_count": 16,
     "metadata": {},
     "output_type": "execute_result"
    }
   ],
   "source": [
    "scaler = StandardScaler()\n",
    "scaler.fit(X_train)\n",
    "scaler.transform(X_train)\n",
    "scaler.transform(X_test)"
   ]
  },
  {
   "cell_type": "code",
   "execution_count": 108,
   "metadata": {},
   "outputs": [
    {
     "data": {
      "text/plain": [
       "array([0.20643864, 0.2690903 , 0.1702066 , 0.62503627, 0.22680095,\n",
       "       0.22680095])"
      ]
     },
     "execution_count": 108,
     "metadata": {},
     "output_type": "execute_result"
    }
   ],
   "source": [
    "scaler.scale_"
   ]
  },
  {
   "cell_type": "code",
   "execution_count": 109,
   "metadata": {},
   "outputs": [
    {
     "data": {
      "text/plain": [
       "array([ 0.33337702,  0.51535638, -0.76170378,  0.01291252,  0.50222157,\n",
       "        0.50222157])"
      ]
     },
     "execution_count": 109,
     "metadata": {},
     "output_type": "execute_result"
    }
   ],
   "source": [
    "scaler.mean_"
   ]
  },
  {
   "cell_type": "code",
   "execution_count": 17,
   "metadata": {},
   "outputs": [
    {
     "data": {
      "text/plain": [
       "0.32701421800947866"
      ]
     },
     "execution_count": 17,
     "metadata": {},
     "output_type": "execute_result"
    }
   ],
   "source": [
    "dummy_clf = DummyClassifier(strategy=\"most_frequent\")\n",
    "dummy_clf.fit(X_train, y_train)\n",
    "dummy_clf.predict(X_test)\n",
    "dummy_clf.score(X_test, y_test)"
   ]
  },
  {
   "cell_type": "code",
   "execution_count": 18,
   "metadata": {},
   "outputs": [],
   "source": [
    "estimator_KNN = KNeighborsClassifier(algorithm='auto')"
   ]
  },
  {
   "cell_type": "code",
   "execution_count": 19,
   "metadata": {},
   "outputs": [
    {
     "name": "stdout",
     "output_type": "stream",
     "text": [
      "{'leaf_size': 12, 'metric': 'minkowski', 'n_neighbors': 1, 'p': 1, 'weights': 'uniform'}\n",
      "Best Score - KNN: 0.8175542406311637\n"
     ]
    }
   ],
   "source": [
    "parameters_KNN = {\n",
    "    'n_neighbors': (1, 2, 4, 8, 10, 12, 16, 24),\n",
    "    'leaf_size': (1, 4, 8, 12, 16, 20),\n",
    "    'p': (1,2),\n",
    "    'weights': ('uniform', 'distance'),\n",
    "    'metric': ('minkowski', 'chebyshev')}\n",
    "                   \n",
    "grid_search_KNN = GridSearchCV(\n",
    "    estimator=estimator_KNN,\n",
    "    param_grid=parameters_KNN,\n",
    "    scoring = 'f1_micro',\n",
    "    n_jobs = -1,\n",
    "    cv = 5\n",
    ")\n",
    "grid_search_KNN.fit(X_train, y_train)\n",
    "print(grid_search_KNN.best_params_ )\n",
    "print('Best Score - KNN:', grid_search_KNN.best_score_ )"
   ]
  },
  {
   "cell_type": "code",
   "execution_count": 20,
   "metadata": {},
   "outputs": [
    {
     "data": {
      "text/plain": [
       "KNeighborsClassifier(leaf_size=12, n_neighbors=1, p=1)"
      ]
     },
     "execution_count": 20,
     "metadata": {},
     "output_type": "execute_result"
    }
   ],
   "source": [
    "knn = KNeighborsClassifier(leaf_size=12, metric='minkowski', n_neighbors=1, p=1, weights='uniform')\n",
    "knn.fit(X_train, y_train)"
   ]
  },
  {
   "cell_type": "code",
   "execution_count": 21,
   "metadata": {},
   "outputs": [],
   "source": [
    "y_pred = grid_search_KNN.predict(X_test)"
   ]
  },
  {
   "cell_type": "code",
   "execution_count": 22,
   "metadata": {},
   "outputs": [
    {
     "name": "stdout",
     "output_type": "stream",
     "text": [
      "test accuracy score: 0.78\n",
      "test f1 score: 0.78\n"
     ]
    }
   ],
   "source": [
    "accuracy = accuracy_score(y_test, y_pred)\n",
    "f1 = f1_score(y_test, y_pred, average='micro')\n",
    "print (\"test accuracy score: %.2f\" % accuracy)\n",
    "print (\"test f1 score: %.2f\" % f1)"
   ]
  },
  {
   "cell_type": "code",
   "execution_count": 23,
   "metadata": {},
   "outputs": [
    {
     "name": "stdout",
     "output_type": "stream",
     "text": [
      "{'max_features': 0.25, 'min_samples_split': 4, 'n_estimators': 250}\n",
      "Best Score - Random Forest: 0.8033882783882784\n"
     ]
    }
   ],
   "source": [
    "random_forest = RandomForestClassifier(random_state=42)\n",
    "parameters_RandomForest = {\n",
    "    'n_estimators': [10, 25, 250],\n",
    "    'max_features': ['sqrt', 0.25, 0.5, 0.75, 1.0],\n",
    "    'min_samples_split': [1, 4, 8, 16]\n",
    "}\n",
    "                   \n",
    "grid_search_RandomForest = GridSearchCV(\n",
    "    estimator=random_forest,\n",
    "    param_grid=parameters_RandomForest,\n",
    "    scoring = 'f1_micro',\n",
    "    n_jobs = -1,\n",
    "    cv = 5\n",
    ")\n",
    "grid_search_RandomForest.fit(X_train, y_train)\n",
    "print(grid_search_RandomForest.best_params_ )\n",
    "print('Best Score - Random Forest:', grid_search_RandomForest.best_score_ )"
   ]
  },
  {
   "cell_type": "code",
   "execution_count": 24,
   "metadata": {},
   "outputs": [
    {
     "name": "stdout",
     "output_type": "stream",
     "text": [
      "test accuracy score: 0.79\n",
      "test f1 score: 0.79\n"
     ]
    }
   ],
   "source": [
    "y_pred = grid_search_RandomForest.predict(X_test)\n",
    "accuracy = accuracy_score(y_test, y_pred)\n",
    "f1 = f1_score(y_test, y_pred, average='micro')\n",
    "print (\"test accuracy score: %.2f\" % accuracy)\n",
    "print (\"test f1 score: %.2f\" % f1)"
   ]
  },
  {
   "cell_type": "code",
   "execution_count": 25,
   "metadata": {},
   "outputs": [
    {
     "name": "stdout",
     "output_type": "stream",
     "text": [
      "Collecting auto-sklearn"
     ]
    },
    {
     "name": "stderr",
     "output_type": "stream",
     "text": [
      "WARNING: Ignoring invalid distribution -pencv-python (c:\\users\\andrin\\appdata\\local\\programs\\python\\python37\\lib\\site-packages)\n",
      "WARNING: Ignoring invalid distribution -pencv-python (c:\\users\\andrin\\appdata\\local\\programs\\python\\python37\\lib\\site-packages)\n",
      "  error: subprocess-exited-with-error\n",
      "  \n",
      "  python setup.py egg_info did not run successfully.\n",
      "  exit code: 1\n",
      "  \n",
      "  [6 lines of output]\n",
      "  Traceback (most recent call last):\n",
      "    File \"<string>\", line 36, in <module>\n",
      "    File \"<pip-setuptools-caller>\", line 34, in <module>\n",
      "    File \"C:\\Users\\Andrin\\AppData\\Local\\Temp\\pip-install-_yxqy9p4\\auto-sklearn_412bcbc121c54243807873afac0b70bd\\setup.py\", line 13, in <module>\n",
      "      sys.platform\n",
      "  ValueError: Detected unsupported operating system: win32. Please check the compability information of auto-sklearn: https://automl.github.io/auto-sklearn/master/installation.html#windows-osx-compatibility\n",
      "  [end of output]\n",
      "  \n",
      "  note: This error originates from a subprocess, and is likely not a problem with pip."
     ]
    },
    {
     "name": "stdout",
     "output_type": "stream",
     "text": [
      "\n",
      "  Using cached auto-sklearn-0.14.7.tar.gz (6.4 MB)\n",
      "  Preparing metadata (setup.py): started\n",
      "  Preparing metadata (setup.py): finished with status 'error'\n"
     ]
    },
    {
     "name": "stderr",
     "output_type": "stream",
     "text": [
      "\n",
      "error: metadata-generation-failed\n",
      "\n",
      "Encountered error while generating package metadata.\n",
      "\n",
      "See above for output.\n",
      "\n",
      "note: This is an issue with the package mentioned above, not pip.\n",
      "hint: See above for details.\n",
      "WARNING: Ignoring invalid distribution -pencv-python (c:\\users\\andrin\\appdata\\local\\programs\\python\\python37\\lib\\site-packages)\n",
      "WARNING: Ignoring invalid distribution -pencv-python (c:\\users\\andrin\\appdata\\local\\programs\\python\\python37\\lib\\site-packages)\n",
      "WARNING: Ignoring invalid distribution -pencv-python (c:\\users\\andrin\\appdata\\local\\programs\\python\\python37\\lib\\site-packages)\n",
      "WARNING: There was an error checking the latest version of pip.\n"
     ]
    }
   ],
   "source": [
    "!pip install auto-sklearn"
   ]
  },
  {
   "cell_type": "code",
   "execution_count": 26,
   "metadata": {},
   "outputs": [
    {
     "ename": "ModuleNotFoundError",
     "evalue": "No module named 'autosklearn'",
     "output_type": "error",
     "traceback": [
      "\u001b[1;31m---------------------------------------------------------------------------\u001b[0m",
      "\u001b[1;31mModuleNotFoundError\u001b[0m                       Traceback (most recent call last)",
      "\u001b[1;32m<ipython-input-26-76ec0f12771f>\u001b[0m in \u001b[0;36m<module>\u001b[1;34m\u001b[0m\n\u001b[1;32m----> 1\u001b[1;33m \u001b[1;32mfrom\u001b[0m \u001b[0mautosklearn\u001b[0m\u001b[1;33m.\u001b[0m\u001b[0mexperimental\u001b[0m\u001b[1;33m.\u001b[0m\u001b[0maskl2\u001b[0m \u001b[1;32mimport\u001b[0m \u001b[0mAutoSklearn2Classifier\u001b[0m\u001b[1;33m\u001b[0m\u001b[1;33m\u001b[0m\u001b[0m\n\u001b[0m",
      "\u001b[1;31mModuleNotFoundError\u001b[0m: No module named 'autosklearn'"
     ]
    }
   ],
   "source": [
    "from autosklearn.experimental.askl2 import AutoSklearn2Classifier"
   ]
  },
  {
   "cell_type": "code",
   "execution_count": null,
   "metadata": {},
   "outputs": [],
   "source": [
    "automl = AutoSklearn2Classifier(time_left_for_this_task=5*60, per_run_time_limit=30, n_jobs=8)\n",
    "automl.fit(X_train, y_train)\n",
    "y_hat = automl.predict(X_test)\n",
    "print(\"Accuracy score\", accuracy_score(y_test, y_hat))"
   ]
  },
  {
   "cell_type": "code",
   "execution_count": 38,
   "metadata": {},
   "outputs": [],
   "source": [
    "import keras\n",
    "from keras.models import Sequential\n",
    "from keras.layers import Dense"
   ]
  },
  {
   "cell_type": "code",
   "execution_count": 39,
   "metadata": {},
   "outputs": [
    {
     "data": {
      "text/plain": [
       "610    nothing\n",
       "420       down\n",
       "444         up\n",
       "73          up\n",
       "121         up\n",
       "Name: action, dtype: category\n",
       "Categories (3, object): ['down', 'nothing', 'up']"
      ]
     },
     "execution_count": 39,
     "metadata": {},
     "output_type": "execute_result"
    }
   ],
   "source": [
    "y_train.head()"
   ]
  },
  {
   "cell_type": "code",
   "execution_count": 41,
   "metadata": {},
   "outputs": [
    {
     "data": {
      "text/html": [
       "<div>\n",
       "<style scoped>\n",
       "    .dataframe tbody tr th:only-of-type {\n",
       "        vertical-align: middle;\n",
       "    }\n",
       "\n",
       "    .dataframe tbody tr th {\n",
       "        vertical-align: top;\n",
       "    }\n",
       "\n",
       "    .dataframe thead th {\n",
       "        text-align: right;\n",
       "    }\n",
       "</style>\n",
       "<table border=\"1\" class=\"dataframe\">\n",
       "  <thead>\n",
       "    <tr style=\"text-align: right;\">\n",
       "      <th></th>\n",
       "      <th>down</th>\n",
       "      <th>nothing</th>\n",
       "      <th>up</th>\n",
       "    </tr>\n",
       "  </thead>\n",
       "  <tbody>\n",
       "    <tr>\n",
       "      <th>610</th>\n",
       "      <td>0</td>\n",
       "      <td>1</td>\n",
       "      <td>0</td>\n",
       "    </tr>\n",
       "    <tr>\n",
       "      <th>420</th>\n",
       "      <td>1</td>\n",
       "      <td>0</td>\n",
       "      <td>0</td>\n",
       "    </tr>\n",
       "    <tr>\n",
       "      <th>444</th>\n",
       "      <td>0</td>\n",
       "      <td>0</td>\n",
       "      <td>1</td>\n",
       "    </tr>\n",
       "    <tr>\n",
       "      <th>73</th>\n",
       "      <td>0</td>\n",
       "      <td>0</td>\n",
       "      <td>1</td>\n",
       "    </tr>\n",
       "    <tr>\n",
       "      <th>121</th>\n",
       "      <td>0</td>\n",
       "      <td>0</td>\n",
       "      <td>1</td>\n",
       "    </tr>\n",
       "  </tbody>\n",
       "</table>\n",
       "</div>"
      ],
      "text/plain": [
       "     down  nothing  up\n",
       "610     0        1   0\n",
       "420     1        0   0\n",
       "444     0        0   1\n",
       "73      0        0   1\n",
       "121     0        0   1"
      ]
     },
     "execution_count": 41,
     "metadata": {},
     "output_type": "execute_result"
    }
   ],
   "source": [
    "y_train_cat = pd.get_dummies(y_train)\n",
    "y_train_cat.head()"
   ]
  },
  {
   "cell_type": "code",
   "execution_count": null,
   "metadata": {},
   "outputs": [],
   "source": [
    "classifier = Sequential()\n",
    "classifier.add(Dense(units = 4, activation = 'relu'))\n",
    "classifier.add(Dense(units = 3, activation = 'softmax'))\n",
    "classifier.compile(loss='categorical_crossentropy', optimizer='adam', metrics=['accuracy'])\n",
    "history = classifier.fit(X_train, y_train_cat, epochs=300)"
   ]
  },
  {
   "cell_type": "code",
   "execution_count": 60,
   "metadata": {},
   "outputs": [
    {
     "data": {
      "text/html": [
       "<div>\n",
       "<style scoped>\n",
       "    .dataframe tbody tr th:only-of-type {\n",
       "        vertical-align: middle;\n",
       "    }\n",
       "\n",
       "    .dataframe tbody tr th {\n",
       "        vertical-align: top;\n",
       "    }\n",
       "\n",
       "    .dataframe thead th {\n",
       "        text-align: right;\n",
       "    }\n",
       "</style>\n",
       "<table border=\"1\" class=\"dataframe\">\n",
       "  <thead>\n",
       "    <tr style=\"text-align: right;\">\n",
       "      <th></th>\n",
       "      <th>down</th>\n",
       "      <th>nothing</th>\n",
       "      <th>up</th>\n",
       "    </tr>\n",
       "  </thead>\n",
       "  <tbody>\n",
       "    <tr>\n",
       "      <th>861</th>\n",
       "      <td>0</td>\n",
       "      <td>1</td>\n",
       "      <td>0</td>\n",
       "    </tr>\n",
       "    <tr>\n",
       "      <th>747</th>\n",
       "      <td>1</td>\n",
       "      <td>0</td>\n",
       "      <td>0</td>\n",
       "    </tr>\n",
       "    <tr>\n",
       "      <th>801</th>\n",
       "      <td>1</td>\n",
       "      <td>0</td>\n",
       "      <td>0</td>\n",
       "    </tr>\n",
       "    <tr>\n",
       "      <th>1606</th>\n",
       "      <td>1</td>\n",
       "      <td>0</td>\n",
       "      <td>0</td>\n",
       "    </tr>\n",
       "    <tr>\n",
       "      <th>1232</th>\n",
       "      <td>0</td>\n",
       "      <td>1</td>\n",
       "      <td>0</td>\n",
       "    </tr>\n",
       "  </tbody>\n",
       "</table>\n",
       "</div>"
      ],
      "text/plain": [
       "      down  nothing  up\n",
       "861      0        1   0\n",
       "747      1        0   0\n",
       "801      1        0   0\n",
       "1606     1        0   0\n",
       "1232     0        1   0"
      ]
     },
     "execution_count": 60,
     "metadata": {},
     "output_type": "execute_result"
    }
   ],
   "source": [
    "y_test_cat = pd.get_dummies(y_test)\n",
    "y_test_cat.head()"
   ]
  },
  {
   "cell_type": "code",
   "execution_count": 61,
   "metadata": {},
   "outputs": [
    {
     "name": "stdout",
     "output_type": "stream",
     "text": [
      "7/7 [==============================] - 0s 2ms/step - loss: 0.7177 - accuracy: 0.6635\n"
     ]
    }
   ],
   "source": [
    "results = classifier.evaluate(X_test, y_test_cat)"
   ]
  },
  {
   "cell_type": "code",
   "execution_count": 63,
   "metadata": {},
   "outputs": [
    {
     "data": {
      "text/plain": [
       "[array([[ 1.5399314 , -2.8293917 ,  2.525134  , -2.1885777 ],\n",
       "        [-0.42994532,  1.8620425 ,  0.1342129 , -1.9561486 ],\n",
       "        [-1.4407576 , -1.4305859 ,  0.16285542, -1.7758865 ],\n",
       "        [ 0.93223983,  0.28353357,  0.09982148, -0.1016136 ],\n",
       "        [-0.9442277 , -0.02171859, -0.03981543,  0.37959537],\n",
       "        [-0.7063211 , -1.2678899 , -1.2025316 ,  1.0569857 ]],\n",
       "       dtype=float32),\n",
       " array([ 0.18150555, -0.644038  ,  0.09577676, -0.6265329 ], dtype=float32),\n",
       " array([[-2.1102998 , -0.46727428,  2.0454555 ],\n",
       "        [-5.9539576 , -0.01119816,  3.4104886 ],\n",
       "        [ 0.835805  ,  1.6214173 , -1.3059618 ],\n",
       "        [ 4.1843863 ,  0.36222976, -7.352658  ]], dtype=float32),\n",
       " array([ 1.4740968,  0.0601493, -1.5465372], dtype=float32)]"
      ]
     },
     "execution_count": 63,
     "metadata": {},
     "output_type": "execute_result"
    }
   ],
   "source": [
    "classifier.get_weights()"
   ]
  },
  {
   "cell_type": "code",
   "execution_count": 157,
   "metadata": {},
   "outputs": [],
   "source": [
    "class TinyNN():\n",
    "    def __init__(self):\n",
    "        self.input = None\n",
    "        self.layers = []\n",
    "        \n",
    "    def set_input(self, input):\n",
    "        self.input = input\n",
    "    \n",
    "    def add_layer(self, layer):\n",
    "        self.layers.append(layer)\n",
    "        \n",
    "    def feed_forward(self, x):\n",
    "        state = self.input.transform(x)\n",
    "        for layer in self.layers:\n",
    "            state = layer.feed_forward(state)\n",
    "        return state"
   ]
  },
  {
   "cell_type": "code",
   "execution_count": 96,
   "metadata": {},
   "outputs": [],
   "source": [
    "class TinyInput():\n",
    "    def __init__(self, normalization):\n",
    "        self.normalization = normalization\n",
    "        \n",
    "    def transform(self, input_values):\n",
    "        return self.normalization.apply(input_values)"
   ]
  },
  {
   "cell_type": "code",
   "execution_count": 98,
   "metadata": {},
   "outputs": [],
   "source": [
    "class TinyActivation():\n",
    "    def compute(self, values):\n",
    "        pass"
   ]
  },
  {
   "cell_type": "code",
   "execution_count": 99,
   "metadata": {},
   "outputs": [],
   "source": [
    "class TinyReLU():\n",
    "    def compute(self, values):\n",
    "        outputs = []\n",
    "        for value in values:\n",
    "            output = max(0, value)\n",
    "            outputs.append(output)\n",
    "        return outputs"
   ]
  },
  {
   "cell_type": "code",
   "execution_count": 150,
   "metadata": {},
   "outputs": [],
   "source": []
  },
  {
   "cell_type": "code",
   "execution_count": 147,
   "metadata": {},
   "outputs": [
    {
     "data": {
      "text/plain": [
       "[0.18150554597377777,\n",
       " -0.6440380215644836,\n",
       " 0.0957767590880394,\n",
       " -0.6265329122543335]"
      ]
     },
     "execution_count": 147,
     "metadata": {},
     "output_type": "execute_result"
    }
   ],
   "source": []
  },
  {
   "cell_type": "code",
   "execution_count": 100,
   "metadata": {},
   "outputs": [
    {
     "data": {
      "text/plain": [
       "[0, 4923]"
      ]
     },
     "execution_count": 100,
     "metadata": {},
     "output_type": "execute_result"
    }
   ],
   "source": [
    "relu = TinyReLU()\n",
    "relu.compute([-4.3, 4923])"
   ]
  },
  {
   "cell_type": "code",
   "execution_count": 101,
   "metadata": {},
   "outputs": [],
   "source": [
    "import math\n",
    "class TinySoftmax():\n",
    "    def compute(self, values):\n",
    "        exped = [math.exp(value) for value in values]\n",
    "        total_exp = sum(exped)\n",
    "        outputs = []\n",
    "        for value in values:\n",
    "            logit_exp = math.exp(value)\n",
    "            output = logit_exp / total_exp\n",
    "            outputs.append(output)\n",
    "        return outputs"
   ]
  },
  {
   "cell_type": "code",
   "execution_count": 102,
   "metadata": {},
   "outputs": [
    {
     "name": "stdout",
     "output_type": "stream",
     "text": [
      "[0.00012256881570915678, 0.9931854005948174, 0.006692030589473348]\n",
      "0.9999999999999999\n"
     ]
    }
   ],
   "source": [
    "softmax = TinySoftmax()\n",
    "result = softmax.compute([0, 9, 4])\n",
    "print(result)\n",
    "print(sum(result))"
   ]
  },
  {
   "cell_type": "code",
   "execution_count": 103,
   "metadata": {},
   "outputs": [],
   "source": [
    "class Normalization():\n",
    "    def apply(self, unnormalized):\n",
    "        pass"
   ]
  },
  {
   "cell_type": "code",
   "execution_count": 110,
   "metadata": {},
   "outputs": [],
   "source": [
    "class ZScoreNormalization():\n",
    "    def __init__(self, mus, sigmas):\n",
    "        self.mus = mus\n",
    "        self.sigmas = sigmas\n",
    "    \n",
    "    def apply(self, unnormalized):\n",
    "        normalized = []\n",
    "        param_index = 0\n",
    "        for value in unnormalized:\n",
    "            output = (value - self.mus[param_index]) / self.sigmas[param_index]\n",
    "            normalized.append(output)\n",
    "            param_index += 1\n",
    "        return normalized"
   ]
  },
  {
   "cell_type": "code",
   "execution_count": 114,
   "metadata": {},
   "outputs": [
    {
     "data": {
      "text/plain": [
       "[1451.6014506651468, 42.67951469817707, 268.8597416346911]"
      ]
     },
     "execution_count": 114,
     "metadata": {},
     "output_type": "execute_result"
    }
   ],
   "source": [
    "z_score = ZScoreNormalization(mus=scaler.mean_, sigmas=scaler.scale_)\n",
    "z_score.apply([300, 12, 45])"
   ]
  },
  {
   "cell_type": "code",
   "execution_count": 124,
   "metadata": {},
   "outputs": [
    {
     "data": {
      "text/plain": [
       "[0.6838156580924988,\n",
       " 0.03873118758201599,\n",
       " -0.5446390509605408,\n",
       " -0.838670551776886,\n",
       " 0.4583333432674408,\n",
       " 0.4583333432674408]"
      ]
     },
     "execution_count": 124,
     "metadata": {},
     "output_type": "execute_result"
    }
   ],
   "source": [
    "X_train.values[0].tolist()"
   ]
  },
  {
   "cell_type": "code",
   "execution_count": 160,
   "metadata": {},
   "outputs": [],
   "source": [
    "class TinyDenseLayer():\n",
    "    def __init__(self, units, weights, biases, activation):\n",
    "        self.units = units\n",
    "        self.weights = weights\n",
    "        self.biases = biases\n",
    "        self.activation = activation\n",
    "        \n",
    "    def feed_forward(self, inputs):\n",
    "        source_neuron_index = 0\n",
    "        all_zs = []\n",
    "        for _ in range(self.units):\n",
    "            weight_index = 0\n",
    "            total_weights = 0\n",
    "            for source_neuron in inputs:\n",
    "                weight = self.weights[weight_index][source_neuron_index]\n",
    "                total_weights += weight * source_neuron\n",
    "                weight_index += 1\n",
    "            z = total_weights + self.biases[source_neuron_index]\n",
    "            all_zs.append(z)\n",
    "            source_neuron_index += 1\n",
    "        return self.activation.compute(all_zs)"
   ]
  },
  {
   "cell_type": "code",
   "execution_count": 140,
   "metadata": {},
   "outputs": [
    {
     "data": {
      "text/plain": [
       "array([0.5, 0.5, -0.9396926164627075, -0.3420201539993286, 0.5, 0.5],\n",
       "      dtype=object)"
      ]
     },
     "execution_count": 140,
     "metadata": {},
     "output_type": "execute_result"
    }
   ],
   "source": [
    "t = df.values[0].copy()[:-1]\n",
    "t"
   ]
  },
  {
   "cell_type": "code",
   "execution_count": 168,
   "metadata": {},
   "outputs": [],
   "source": [
    "tnorm = scaler.transform([t])"
   ]
  },
  {
   "cell_type": "code",
   "execution_count": 169,
   "metadata": {},
   "outputs": [
    {
     "data": {
      "text/plain": [
       "array([[ 0.80713078, -0.05706775, -1.04572227, -0.56785932, -0.00979522,\n",
       "        -0.00979522]])"
      ]
     },
     "execution_count": 169,
     "metadata": {},
     "output_type": "execute_result"
    }
   ],
   "source": [
    "tnorm"
   ]
  },
  {
   "cell_type": "code",
   "execution_count": 170,
   "metadata": {},
   "outputs": [
    {
     "data": {
      "text/plain": [
       "array([[0.0121673, 0.7346086, 0.2532241]], dtype=float32)"
      ]
     },
     "execution_count": 170,
     "metadata": {},
     "output_type": "execute_result"
    }
   ],
   "source": [
    "classifier.predict(tnorm)"
   ]
  },
  {
   "cell_type": "code",
   "execution_count": 172,
   "metadata": {},
   "outputs": [],
   "source": [
    "def z_score_to_config(mus, sigmas):\n",
    "    return { \"type\": \"z_score\", \"mus\": mus, \"sigmas\": sigmas }"
   ]
  },
  {
   "cell_type": "code",
   "execution_count": 179,
   "metadata": {},
   "outputs": [],
   "source": [
    "def layer_to_config(units, weights, biases, activation):\n",
    "    return { \"units\": units, \"weights\": weights, \"biases\": biases , \"activation\": activation}"
   ]
  },
  {
   "cell_type": "code",
   "execution_count": 203,
   "metadata": {},
   "outputs": [
    {
     "data": {
      "text/plain": [
       "{'type': 'z_score',\n",
       " 'mus': [0.33337702376600264,\n",
       "  0.5153563783685589,\n",
       "  -0.7617037799827295,\n",
       "  0.012912516517485205,\n",
       "  0.5022215660378972,\n",
       "  0.5022215660378972],\n",
       " 'sigmas': [0.20643863564542597,\n",
       "  0.2690903048652044,\n",
       "  0.17020660475885124,\n",
       "  0.6250362669552798,\n",
       "  0.22680095198489916,\n",
       "  0.22680095198489916]}"
      ]
     },
     "execution_count": 203,
     "metadata": {},
     "output_type": "execute_result"
    }
   ],
   "source": [
    "z_score_to_config(scaler.mean_.tolist(), scaler.scale_.tolist())"
   ]
  },
  {
   "cell_type": "code",
   "execution_count": 204,
   "metadata": {},
   "outputs": [
    {
     "name": "stdout",
     "output_type": "stream",
     "text": [
      "{'units': 3, 'weights': [[-2.110299825668335, -0.4672742784023285, 2.0454554557800293], [-5.953957557678223, -0.011198162101209164, 3.4104886054992676], [0.8358049988746643, 1.6214172840118408, -1.3059618473052979], [4.184386253356934, 0.36222976446151733, -7.352657794952393]], 'biases': [1.4740967750549316, 0.06014930456876755, -1.546537160873413], 'activation': 'softmax'}\n"
     ]
    }
   ],
   "source": [
    "layer_1_config = layer_to_config(units=4, weights=classifier.get_weights()[0].tolist(), biases=classifier.get_weights()[1].tolist(), activation=\"relu\")\n",
    "layer_2_config = layer_to_config(units=3, weights=classifier.get_weights()[2].tolist(), biases=classifier.get_weights()[3].tolist(), activation=\"softmax\")\n",
    "print(layer_2_config)"
   ]
  },
  {
   "cell_type": "code",
   "execution_count": 215,
   "metadata": {},
   "outputs": [],
   "source": [
    "import json\n",
    "json_config = json.dumps(final_config)"
   ]
  },
  {
   "cell_type": "code",
   "execution_count": 216,
   "metadata": {},
   "outputs": [],
   "source": [
    "with open('pong_action_classifier_tiny_nn.json', 'w', encoding='utf-8') as f:\n",
    "    json.dump(json_config, f, ensure_ascii=False, indent=4)"
   ]
  },
  {
   "cell_type": "code",
   "execution_count": 213,
   "metadata": {},
   "outputs": [
    {
     "data": {
      "text/plain": [
       "{'name': 'pong_action_classifier',\n",
       " 'version': '0.1',\n",
       " 'input': {'normalization': {'type': 'z_score',\n",
       "   'mus': [0.33337702376600264,\n",
       "    0.5153563783685589,\n",
       "    -0.7617037799827295,\n",
       "    0.012912516517485205,\n",
       "    0.5022215660378972,\n",
       "    0.5022215660378972],\n",
       "   'sigmas': [0.20643863564542597,\n",
       "    0.2690903048652044,\n",
       "    0.17020660475885124,\n",
       "    0.6250362669552798,\n",
       "    0.22680095198489916,\n",
       "    0.22680095198489916]}},\n",
       " 'layers': [{'units': 4,\n",
       "   'weights': [[1.5399314165115356,\n",
       "     -2.8293917179107666,\n",
       "     2.5251340866088867,\n",
       "     -2.188577651977539],\n",
       "    [-0.42994531989097595,\n",
       "     1.8620425462722778,\n",
       "     0.1342128962278366,\n",
       "     -1.956148624420166],\n",
       "    [-1.4407576322555542,\n",
       "     -1.4305858612060547,\n",
       "     0.16285541653633118,\n",
       "     -1.7758865356445312],\n",
       "    [0.932239830493927,\n",
       "     0.28353357315063477,\n",
       "     0.09982147812843323,\n",
       "     -0.1016136035323143],\n",
       "    [-0.9442276954650879,\n",
       "     -0.0217185877263546,\n",
       "     -0.03981543332338333,\n",
       "     0.3795953691005707],\n",
       "    [-0.706321120262146,\n",
       "     -1.2678898572921753,\n",
       "     -1.2025315761566162,\n",
       "     1.0569857358932495]],\n",
       "   'biases': [0.18150554597377777,\n",
       "    -0.6440380215644836,\n",
       "    0.0957767590880394,\n",
       "    -0.6265329122543335],\n",
       "   'activation': 'relu'},\n",
       "  {'units': 3,\n",
       "   'weights': [[-2.110299825668335, -0.4672742784023285, 2.0454554557800293],\n",
       "    [-5.953957557678223, -0.011198162101209164, 3.4104886054992676],\n",
       "    [0.8358049988746643, 1.6214172840118408, -1.3059618473052979],\n",
       "    [4.184386253356934, 0.36222976446151733, -7.352657794952393]],\n",
       "   'biases': [1.4740967750549316, 0.06014930456876755, -1.546537160873413],\n",
       "   'activation': 'softmax'}]}"
      ]
     },
     "execution_count": 213,
     "metadata": {},
     "output_type": "execute_result"
    }
   ],
   "source": [
    "final_config = {\n",
    " \"name\": \"pong_action_classifier\",\n",
    "  \"version\": \"0.1\",\n",
    "  \"input\": {\n",
    "          \"normalization\": z_score_to_config(scaler.mean_.tolist(), scaler.scale_.tolist())\n",
    "  },\n",
    "  \"layers\": [\n",
    "      layer_1_config,\n",
    "      layer_2_config\n",
    "  ]\n",
    "}\n",
    "final_config"
   ]
  },
  {
   "cell_type": "code",
   "execution_count": 207,
   "metadata": {},
   "outputs": [],
   "source": [
    "def nn_from_config(conf):\n",
    "    nn = TinyNN()\n",
    "    inputs = TinyInput(normalization=ZScoreNormalization(mus=conf['input']['normalization']['mus'], sigmas=conf['input']['normalization']['sigmas']))\n",
    "    nn.set_input(inputs)\n",
    "    for layer_config in conf['layers']:\n",
    "        activation_func = None\n",
    "        if layer_config['activation'] == 'relu':\n",
    "            activation_func = TinyReLU()\n",
    "        else:\n",
    "            activation_func = TinySoftmax()\n",
    "        dense_layer = TinyDenseLayer(units=layer_config['units'], weights=layer_config['weights'], biases=layer_config['biases'], activation=activation_func)\n",
    "        nn.add_layer(dense_layer)\n",
    "    return nn"
   ]
  },
  {
   "cell_type": "code",
   "execution_count": 208,
   "metadata": {},
   "outputs": [],
   "source": [
    "nnz = nn_from_config(final_config)"
   ]
  },
  {
   "cell_type": "code",
   "execution_count": 209,
   "metadata": {},
   "outputs": [
    {
     "data": {
      "text/plain": [
       "[0.012167297976847055, 0.7346085954192233, 0.2532241066039296]"
      ]
     },
     "execution_count": 209,
     "metadata": {},
     "output_type": "execute_result"
    }
   ],
   "source": [
    "nnz.feed_forward(t.tolist())"
   ]
  },
  {
   "cell_type": "code",
   "execution_count": 210,
   "metadata": {},
   "outputs": [],
   "source": [
    "class PongActionClassifier():\n",
    "    def __init__(self, nn, class_names):\n",
    "        self.nn = nn\n",
    "        self.class_names = class_names\n",
    "        \n",
    "    def classify(self, inputs):\n",
    "        outputs = self.nn.feed_forward(inputs)\n",
    "        index_max = max(range(len(outputs)), key=outputs.__getitem__)\n",
    "        return self.class_names[index_max]"
   ]
  },
  {
   "cell_type": "code",
   "execution_count": 211,
   "metadata": {},
   "outputs": [
    {
     "data": {
      "text/plain": [
       "'up'"
      ]
     },
     "execution_count": 211,
     "metadata": {},
     "output_type": "execute_result"
    }
   ],
   "source": [
    "action_classifier = PongActionClassifier(nnz, [\"down\", \"up\", \"nothing\"])\n",
    "action_classifier.classify(t.tolist())"
   ]
  },
  {
   "cell_type": "code",
   "execution_count": 217,
   "metadata": {},
   "outputs": [
    {
     "data": {
      "text/plain": [
       "[0.5, 0.5, -0.9396926164627075, -0.3420201539993286, 0.5, 0.5]"
      ]
     },
     "execution_count": 217,
     "metadata": {},
     "output_type": "execute_result"
    }
   ],
   "source": [
    "t.tolist()"
   ]
  },
  {
   "cell_type": "code",
   "execution_count": 162,
   "metadata": {},
   "outputs": [
    {
     "data": {
      "text/plain": [
       "[0.012167297976847055, 0.7346085954192233, 0.2532241066039296]"
      ]
     },
     "execution_count": 162,
     "metadata": {},
     "output_type": "execute_result"
    }
   ],
   "source": [
    "nn.feed_forward(t.tolist())"
   ]
  },
  {
   "cell_type": "code",
   "execution_count": 141,
   "metadata": {},
   "outputs": [
    {
     "data": {
      "text/plain": [
       "array([[ 0.80713078, -0.05706775, -1.04572227, -0.56785932, -0.00979522,\n",
       "        -0.00979522]])"
      ]
     },
     "execution_count": 141,
     "metadata": {},
     "output_type": "execute_result"
    }
   ],
   "source": [
    "scaler.transform([t])"
   ]
  },
  {
   "cell_type": "code",
   "execution_count": 142,
   "metadata": {},
   "outputs": [
    {
     "data": {
      "text/plain": [
       "[0.8071307762379566,\n",
       " -0.05706775045742111,\n",
       " -1.0457222663724044,\n",
       " -0.5678593215811085,\n",
       " -0.009795223602258799,\n",
       " -0.009795223602258799]"
      ]
     },
     "execution_count": 142,
     "metadata": {},
     "output_type": "execute_result"
    }
   ],
   "source": [
    "z_score.apply(t.tolist())"
   ]
  },
  {
   "cell_type": "code",
   "execution_count": 218,
   "metadata": {},
   "outputs": [
    {
     "data": {
      "text/plain": [
       "[0.33337702376600264,\n",
       " 0.5153563783685589,\n",
       " -0.7617037799827295,\n",
       " 0.012912516517485205,\n",
       " 0.5022215660378972,\n",
       " 0.5022215660378972]"
      ]
     },
     "execution_count": 218,
     "metadata": {},
     "output_type": "execute_result"
    }
   ],
   "source": [
    "scaler.mean_.tolist()"
   ]
  },
  {
   "cell_type": "code",
   "execution_count": null,
   "metadata": {},
   "outputs": [],
   "source": []
  },
  {
   "cell_type": "code",
   "execution_count": null,
   "metadata": {},
   "outputs": [],
   "source": []
  },
  {
   "cell_type": "code",
   "execution_count": 219,
   "metadata": {},
   "outputs": [
    {
     "data": {
      "text/plain": [
       "[0.20643863564542597,\n",
       " 0.2690903048652044,\n",
       " 0.17020660475885124,\n",
       " 0.6250362669552798,\n",
       " 0.22680095198489916,\n",
       " 0.22680095198489916]"
      ]
     },
     "execution_count": 219,
     "metadata": {},
     "output_type": "execute_result"
    }
   ],
   "source": [
    "scaler.scale_.tolist()"
   ]
  },
  {
   "cell_type": "code",
   "execution_count": null,
   "metadata": {},
   "outputs": [],
   "source": []
  }
 ],
 "metadata": {
  "kernelspec": {
   "display_name": "Python 3",
   "language": "python",
   "name": "python3"
  },
  "language_info": {
   "codemirror_mode": {
    "name": "ipython",
    "version": 3
   },
   "file_extension": ".py",
   "mimetype": "text/x-python",
   "name": "python",
   "nbconvert_exporter": "python",
   "pygments_lexer": "ipython3",
   "version": "3.7.9"
  },
  "vscode": {
   "interpreter": {
    "hash": "949777d72b0d2535278d3dc13498b2535136f6dfe0678499012e853ee9abcab1"
   }
  }
 },
 "nbformat": 4,
 "nbformat_minor": 4
}
