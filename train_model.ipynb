{
 "cells": [
  {
   "cell_type": "code",
   "execution_count": 55,
   "metadata": {},
   "outputs": [],
   "source": [
    "import numpy as np\n",
    "from tensorflow import keras\n",
    "from sklearn.metrics import accuracy_score, f1_score, confusion_matrix\n",
    "from sklearn.metrics import plot_confusion_matrix\n",
    "from sklearn.model_selection import train_test_split\n",
    "from sklearn.preprocessing import StandardScaler\n",
    "import json\n",
    "from os import listdir\n",
    "from os.path import isfile, join"
   ]
  },
  {
   "cell_type": "code",
   "execution_count": 56,
   "metadata": {},
   "outputs": [
    {
     "name": "stdout",
     "output_type": "stream",
     "text": [
      "Reading files\n",
      "080ec967-734d-4acc-9f92-c315bf12155c.json\n",
      "0ed6797e-adaf-4fed-8de7-a4a7b2eafeb4.json\n",
      "386f2394-0821-4e9f-9997-f10adfb05480.json\n",
      "5136618e-f2a1-48dd-bb30-3fa14cb8f2f0.json\n",
      "593e6938-77f1-48a8-8266-2f30d54f0c94.json\n",
      "5ebdf527-214c-4302-b516-130d1af5f542.json\n",
      "75c10d99-864d-434c-8ee8-60e0fbc74bfe.json\n",
      "7ce583e4-f715-4349-b2a3-aafaa9ce3aa0.json\n",
      "83f49c94-1004-4d9b-adde-32a4083e965e.json\n",
      "a6312746-d888-4fe9-a513-83aa42f4c319.json\n",
      "aa94cfee-a454-4fbf-ab9a-8ea13672077c.json\n",
      "aea49f3e-de71-456b-af60-165a0aaf64da.json\n",
      "cdd533ba-8114-40da-b4e2-fdf06f319ee3.json\n",
      "d939b815-5ca6-4730-8fdf-2d08660a6fe7.json\n",
      "dd7d22f3-1d2a-4f3e-9fc4-7c36e3b6fd7f.json\n",
      "e21a3c31-3b37-4415-bc2c-bfc5febdb9f9.json\n",
      "e40d22d7-7699-4b71-94d1-e78fcca74a3d.json\n",
      "f4535cf2-111b-436c-ac78-c1c85fb4bf66.json\n",
      "f9d1d1a0-e61e-497c-a0bd-bd6dff1ceffe.json\n",
      "1930\n"
     ]
    }
   ],
   "source": [
    "files = [f for f in listdir(\"data\") if isfile(join(\"data\", f))]\n",
    "data = []\n",
    "print(\"Reading files\")\n",
    "for file in files:\n",
    "    print(file)\n",
    "    with open(\"data/\" + file, \"r\", encoding='utf-8') as f:\n",
    "        data += json.load(f)\n",
    "# print(cleaned)\n",
    "cleaned = [entry for entry in data if entry[2] < 0] # remove those entries where the ball is flying in the direction of the opponent because we don't do anything in that case anyway.\n",
    "print(len(cleaned))"
   ]
  },
  {
   "cell_type": "code",
   "execution_count": 57,
   "metadata": {},
   "outputs": [],
   "source": [
    "X = np.array([[entry[0], entry[1], entry[2], entry[3], entry[4]] for entry in cleaned])\n",
    "y = np.array([entry[6] for entry in cleaned])"
   ]
  },
  {
   "cell_type": "code",
   "execution_count": 58,
   "metadata": {},
   "outputs": [],
   "source": [
    "X_train, X_test, y_train, y_test = train_test_split(X, y, test_size=0.2, random_state=42)"
   ]
  },
  {
   "cell_type": "code",
   "execution_count": 59,
   "metadata": {},
   "outputs": [
    {
     "data": {
      "text/plain": [
       "array([[ 1.54533616,  1.36502781, -0.40901216,  0.91306381, -0.22883742],\n",
       "       [ 0.32392761,  0.21691314,  0.88355421,  1.30790584,  1.55653389],\n",
       "       [-0.47538786,  1.37176549,  0.72633045,  1.27226808, -1.30006021],\n",
       "       ...,\n",
       "       [-0.26068273,  0.95152751, -0.40901216, -0.85416191,  0.12823684],\n",
       "       [-0.49580149, -0.94170798,  0.64940896,  1.2538786 , -0.22883742],\n",
       "       [-0.39488881, -1.08495544,  0.64940896,  1.2538786 , -0.22883742]])"
      ]
     },
     "execution_count": 59,
     "metadata": {},
     "output_type": "execute_result"
    }
   ],
   "source": [
    "scaler = StandardScaler()\n",
    "scaler.fit(X_train)\n",
    "scaler.transform(X_train)\n",
    "scaler.transform(X_test)"
   ]
  },
  {
   "cell_type": "code",
   "execution_count": 60,
   "metadata": {},
   "outputs": [],
   "source": [
    "from sklearn.neighbors import KNeighborsClassifier\n",
    "from sklearn.model_selection import GridSearchCV"
   ]
  },
  {
   "cell_type": "code",
   "execution_count": 61,
   "metadata": {},
   "outputs": [],
   "source": [
    "estimator_KNN = KNeighborsClassifier(algorithm='auto')"
   ]
  },
  {
   "cell_type": "code",
   "execution_count": 62,
   "metadata": {},
   "outputs": [
    {
     "name": "stdout",
     "output_type": "stream",
     "text": [
      "{'leaf_size': 12, 'metric': 'minkowski', 'n_neighbors': 1, 'p': 1, 'weights': 'uniform'}\n",
      "Best Score - KNN: 0.8393540116841087\n"
     ]
    }
   ],
   "source": [
    "parameters_KNN = {\n",
    "    'n_neighbors': (1,2,4,8,10,12,16,24),\n",
    "    'leaf_size': (1, 4, 8, 12, 16, 20),\n",
    "    'p': (1,2),\n",
    "    'weights': ('uniform', 'distance'),\n",
    "    'metric': ('minkowski', 'chebyshev')}\n",
    "                   \n",
    "grid_search_KNN = GridSearchCV(\n",
    "    estimator=estimator_KNN,\n",
    "    param_grid=parameters_KNN,\n",
    "    scoring = 'f1_micro',\n",
    "    n_jobs = -1,\n",
    "    cv = 5\n",
    ")\n",
    "grid_search_KNN.fit(X_train, y_train)\n",
    "print(grid_search_KNN.best_params_ )\n",
    "print('Best Score - KNN:', grid_search_KNN.best_score_ )"
   ]
  },
  {
   "cell_type": "code",
   "execution_count": 63,
   "metadata": {},
   "outputs": [
    {
     "data": {
      "text/plain": [
       "KNeighborsClassifier(leaf_size=12, n_neighbors=1, p=1)"
      ]
     },
     "execution_count": 63,
     "metadata": {},
     "output_type": "execute_result"
    }
   ],
   "source": [
    "knn = KNeighborsClassifier(leaf_size=12, metric='minkowski', n_neighbors=1, p=1, weights='uniform')\n",
    "knn.fit(X_train, y_train)"
   ]
  },
  {
   "cell_type": "code",
   "execution_count": 64,
   "metadata": {},
   "outputs": [],
   "source": [
    "y_pred = knn.predict(X_test)"
   ]
  },
  {
   "cell_type": "code",
   "execution_count": 65,
   "metadata": {},
   "outputs": [
    {
     "name": "stdout",
     "output_type": "stream",
     "text": [
      "test f1 score: 0.84\n"
     ]
    }
   ],
   "source": [
    "f1 = f1_score(y_test, y_pred, average='micro')\n",
    "print (\"test f1 score: %.2f\" % f1)"
   ]
  },
  {
   "cell_type": "code",
   "execution_count": null,
   "metadata": {},
   "outputs": [],
   "source": []
  }
 ],
 "metadata": {
  "interpreter": {
   "hash": "2b9844c8fe5ec909c8fd2048dea306cfac17da614d292d3bc6d3ce057d427cc5"
  },
  "kernelspec": {
   "display_name": "Python 3",
   "language": "python",
   "name": "python3"
  },
  "language_info": {
   "codemirror_mode": {
    "name": "ipython",
    "version": 3
   },
   "file_extension": ".py",
   "mimetype": "text/x-python",
   "name": "python",
   "nbconvert_exporter": "python",
   "pygments_lexer": "ipython3",
   "version": "3.7.9"
  }
 },
 "nbformat": 4,
 "nbformat_minor": 4
}
