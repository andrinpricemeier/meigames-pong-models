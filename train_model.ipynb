{
 "cells": [
  {
   "cell_type": "code",
   "execution_count": 182,
   "metadata": {},
   "outputs": [],
   "source": [
    "import numpy as np\n",
    "from tensorflow import keras\n",
    "from sklearn.metrics import accuracy_score, f1_score, confusion_matrix\n",
    "from sklearn.metrics import plot_confusion_matrix\n",
    "from sklearn.model_selection import train_test_split\n",
    "from sklearn.preprocessing import StandardScaler\n",
    "import json\n",
    "from os import listdir\n",
    "from os.path import isfile, join\n",
    "from matplotlib import pyplot as plt\n",
    "import pandas as pd\n",
    "from sklearn.utils import resample\n",
    "from sklearn.neighbors import KNeighborsClassifier\n",
    "from sklearn.model_selection import GridSearchCV\n",
    "from sklearn.dummy import DummyClassifier"
   ]
  },
  {
   "cell_type": "code",
   "execution_count": 142,
   "metadata": {},
   "outputs": [],
   "source": [
    "files = [f for f in listdir(\"data\") if isfile(join(\"data\", f))]\n",
    "data = []\n",
    "for file in files:\n",
    "    with open(\"data/\" + file, \"r\", encoding='utf-8') as f:\n",
    "        data += json.load(f)\n",
    "cleaned = [entry for entry in data if entry[2] < 0] # remove those entries where the ball is flying in the direction of the opponent because we don't do anything in that case anyway."
   ]
  },
  {
   "cell_type": "code",
   "execution_count": 143,
   "metadata": {},
   "outputs": [],
   "source": [
    "copy = cleaned.copy()\n",
    "for entry in copy:\n",
    "    action = entry[6]\n",
    "    if action == [1, 0, 0]:\n",
    "        entry[6] = 'nothing'\n",
    "    elif action == [0, 1, 0]:\n",
    "        entry[6] = 'up'\n",
    "    else:\n",
    "        entry[6] = 'down'\n",
    "raw_data = np.array(copy)"
   ]
  },
  {
   "cell_type": "code",
   "execution_count": 144,
   "metadata": {},
   "outputs": [
    {
     "data": {
      "text/html": [
       "<div>\n",
       "<style scoped>\n",
       "    .dataframe tbody tr th:only-of-type {\n",
       "        vertical-align: middle;\n",
       "    }\n",
       "\n",
       "    .dataframe tbody tr th {\n",
       "        vertical-align: top;\n",
       "    }\n",
       "\n",
       "    .dataframe thead th {\n",
       "        text-align: right;\n",
       "    }\n",
       "</style>\n",
       "<table border=\"1\" class=\"dataframe\">\n",
       "  <thead>\n",
       "    <tr style=\"text-align: right;\">\n",
       "      <th></th>\n",
       "      <th>ballX</th>\n",
       "      <th>ballY</th>\n",
       "      <th>velocityX</th>\n",
       "      <th>velocityY</th>\n",
       "      <th>paddlePos1</th>\n",
       "      <th>paddlePos2</th>\n",
       "      <th>action</th>\n",
       "    </tr>\n",
       "  </thead>\n",
       "  <tbody>\n",
       "    <tr>\n",
       "      <th>0</th>\n",
       "      <td>0.5</td>\n",
       "      <td>0.5</td>\n",
       "      <td>-0.5000000000000004</td>\n",
       "      <td>-0.8660254037844385</td>\n",
       "      <td>0.5</td>\n",
       "      <td>0.5</td>\n",
       "      <td>nothing</td>\n",
       "    </tr>\n",
       "    <tr>\n",
       "      <th>1</th>\n",
       "      <td>0.48125</td>\n",
       "      <td>0.4566987298107781</td>\n",
       "      <td>-0.5000000000000004</td>\n",
       "      <td>-0.8660254037844385</td>\n",
       "      <td>0.5</td>\n",
       "      <td>0.5</td>\n",
       "      <td>nothing</td>\n",
       "    </tr>\n",
       "    <tr>\n",
       "      <th>2</th>\n",
       "      <td>0.4625</td>\n",
       "      <td>0.4133974596215561</td>\n",
       "      <td>-0.5000000000000004</td>\n",
       "      <td>-0.8660254037844385</td>\n",
       "      <td>0.5</td>\n",
       "      <td>0.5</td>\n",
       "      <td>nothing</td>\n",
       "    </tr>\n",
       "    <tr>\n",
       "      <th>3</th>\n",
       "      <td>0.4437499999999999</td>\n",
       "      <td>0.37009618943233424</td>\n",
       "      <td>-0.5000000000000004</td>\n",
       "      <td>-0.8660254037844385</td>\n",
       "      <td>0.5</td>\n",
       "      <td>0.5</td>\n",
       "      <td>nothing</td>\n",
       "    </tr>\n",
       "    <tr>\n",
       "      <th>4</th>\n",
       "      <td>0.42499999999999993</td>\n",
       "      <td>0.3267949192431123</td>\n",
       "      <td>-0.5000000000000004</td>\n",
       "      <td>-0.8660254037844385</td>\n",
       "      <td>0.5</td>\n",
       "      <td>0.5</td>\n",
       "      <td>nothing</td>\n",
       "    </tr>\n",
       "  </tbody>\n",
       "</table>\n",
       "</div>"
      ],
      "text/plain": [
       "                 ballX                ballY            velocityX  \\\n",
       "0                  0.5                  0.5  -0.5000000000000004   \n",
       "1              0.48125   0.4566987298107781  -0.5000000000000004   \n",
       "2               0.4625   0.4133974596215561  -0.5000000000000004   \n",
       "3   0.4437499999999999  0.37009618943233424  -0.5000000000000004   \n",
       "4  0.42499999999999993   0.3267949192431123  -0.5000000000000004   \n",
       "\n",
       "             velocityY paddlePos1 paddlePos2   action  \n",
       "0  -0.8660254037844385        0.5        0.5  nothing  \n",
       "1  -0.8660254037844385        0.5        0.5  nothing  \n",
       "2  -0.8660254037844385        0.5        0.5  nothing  \n",
       "3  -0.8660254037844385        0.5        0.5  nothing  \n",
       "4  -0.8660254037844385        0.5        0.5  nothing  "
      ]
     },
     "execution_count": 144,
     "metadata": {},
     "output_type": "execute_result"
    }
   ],
   "source": [
    "data = {'ballX': raw_data[:,0], 'ballY': raw_data[:,1], 'velocityX': raw_data[:,2], 'velocityY': raw_data[:,3], 'paddlePos1': raw_data[:,4], 'paddlePos2': raw_data[:,5], 'action': raw_data[:,6]}\n",
    "df = pd.DataFrame(data)\n",
    "df.head()"
   ]
  },
  {
   "cell_type": "code",
   "execution_count": 145,
   "metadata": {},
   "outputs": [
    {
     "data": {
      "text/plain": [
       "ballX         object\n",
       "ballY         object\n",
       "velocityX     object\n",
       "velocityY     object\n",
       "paddlePos1    object\n",
       "paddlePos2    object\n",
       "action        object\n",
       "dtype: object"
      ]
     },
     "execution_count": 145,
     "metadata": {},
     "output_type": "execute_result"
    }
   ],
   "source": [
    "df.dtypes"
   ]
  },
  {
   "cell_type": "code",
   "execution_count": 146,
   "metadata": {},
   "outputs": [],
   "source": [
    "df.ballX = df.ballX.astype(np.float32)\n",
    "df.ballY = df.ballY.astype(np.float32)\n",
    "df.velocityX = df.velocityX.astype(np.float32)\n",
    "df.velocityY = df.velocityY.astype(np.float32)\n",
    "df.paddlePos1 = df.paddlePos1.astype(np.float32)\n",
    "df.paddlePos2 = df.paddlePos2.astype(np.float32)\n",
    "df.action = df.action.astype('category')"
   ]
  },
  {
   "cell_type": "code",
   "execution_count": 147,
   "metadata": {},
   "outputs": [
    {
     "data": {
      "text/plain": [
       "ballX          float32\n",
       "ballY          float32\n",
       "velocityX      float32\n",
       "velocityY      float32\n",
       "paddlePos1     float32\n",
       "paddlePos2     float32\n",
       "action        category\n",
       "dtype: object"
      ]
     },
     "execution_count": 147,
     "metadata": {},
     "output_type": "execute_result"
    }
   ],
   "source": [
    "df.dtypes"
   ]
  },
  {
   "cell_type": "code",
   "execution_count": 187,
   "metadata": {},
   "outputs": [
    {
     "data": {
      "text/plain": [
       "<AxesSubplot:>"
      ]
     },
     "execution_count": 187,
     "metadata": {},
     "output_type": "execute_result"
    },
    {
     "data": {
      "image/png": "[encoded data removed]",
      "text/plain": [
       "<Figure size 432x288 with 1 Axes>"
      ]
     },
     "metadata": {
      "needs_background": "light"
     },
     "output_type": "display_data"
    }
   ],
   "source": [
    "df.action.value_counts().plot(kind='bar')"
   ]
  },
  {
   "cell_type": "code",
   "execution_count": 188,
   "metadata": {},
   "outputs": [
    {
     "name": "stdout",
     "output_type": "stream",
     "text": [
      "(1221, 7)\n",
      "(346, 7)\n",
      "(363, 7)\n"
     ]
    },
    {
     "data": {
      "text/plain": [
       "down       363\n",
       "up         346\n",
       "nothing    346\n",
       "Name: action, dtype: int64"
      ]
     },
     "execution_count": 188,
     "metadata": {},
     "output_type": "execute_result"
    }
   ],
   "source": [
    "df_majority = df[df.action == 'nothing']\n",
    "df_minority1 = df[df.action == 'up']\n",
    "df_minority2 = df[df.action == 'down']\n",
    "print(df_majority.shape)\n",
    "print(df_minority1.shape)\n",
    "print(df_minority2.shape)\n",
    "df_majority_downsampled = resample(df_majority, \n",
    "                                 replace=False,\n",
    "                                 n_samples=len(df_minority1),\n",
    "                                 random_state=42)\n",
    "df = pd.concat([df_majority_downsampled, df_minority1, df_minority2])\n",
    "df.action.value_counts()"
   ]
  },
  {
   "cell_type": "code",
   "execution_count": 190,
   "metadata": {},
   "outputs": [
    {
     "data": {
      "text/plain": [
       "<AxesSubplot:>"
      ]
     },
     "execution_count": 190,
     "metadata": {},
     "output_type": "execute_result"
    },
    {
     "data": {
      "image/png": "[encoded data removed]",
      "text/plain": [
       "<Figure size 432x288 with 1 Axes>"
      ]
     },
     "metadata": {
      "needs_background": "light"
     },
     "output_type": "display_data"
    }
   ],
   "source": [
    "df.action.value_counts().plot(kind='bar')"
   ]
  },
  {
   "cell_type": "code",
   "execution_count": 191,
   "metadata": {},
   "outputs": [],
   "source": [
    "X = df.drop('action', 1)\n",
    "y = df['action']"
   ]
  },
  {
   "cell_type": "code",
   "execution_count": 192,
   "metadata": {},
   "outputs": [
    {
     "data": {
      "text/html": [
       "<div>\n",
       "<style scoped>\n",
       "    .dataframe tbody tr th:only-of-type {\n",
       "        vertical-align: middle;\n",
       "    }\n",
       "\n",
       "    .dataframe tbody tr th {\n",
       "        vertical-align: top;\n",
       "    }\n",
       "\n",
       "    .dataframe thead th {\n",
       "        text-align: right;\n",
       "    }\n",
       "</style>\n",
       "<table border=\"1\" class=\"dataframe\">\n",
       "  <thead>\n",
       "    <tr style=\"text-align: right;\">\n",
       "      <th></th>\n",
       "      <th>ballX</th>\n",
       "      <th>ballY</th>\n",
       "      <th>velocityX</th>\n",
       "      <th>velocityY</th>\n",
       "      <th>paddlePos1</th>\n",
       "      <th>paddlePos2</th>\n",
       "    </tr>\n",
       "  </thead>\n",
       "  <tbody>\n",
       "    <tr>\n",
       "      <th>878</th>\n",
       "      <td>0.500000</td>\n",
       "      <td>0.500000</td>\n",
       "      <td>-0.939693</td>\n",
       "      <td>-0.342020</td>\n",
       "      <td>0.500000</td>\n",
       "      <td>0.500000</td>\n",
       "    </tr>\n",
       "    <tr>\n",
       "      <th>413</th>\n",
       "      <td>0.391858</td>\n",
       "      <td>0.458654</td>\n",
       "      <td>-0.961262</td>\n",
       "      <td>-0.275637</td>\n",
       "      <td>0.500000</td>\n",
       "      <td>0.500000</td>\n",
       "    </tr>\n",
       "    <tr>\n",
       "      <th>75</th>\n",
       "      <td>0.968750</td>\n",
       "      <td>0.803109</td>\n",
       "      <td>-0.500000</td>\n",
       "      <td>0.866025</td>\n",
       "      <td>0.666667</td>\n",
       "      <td>0.666667</td>\n",
       "    </tr>\n",
       "    <tr>\n",
       "      <th>1622</th>\n",
       "      <td>0.088905</td>\n",
       "      <td>0.255958</td>\n",
       "      <td>-0.913545</td>\n",
       "      <td>-0.406737</td>\n",
       "      <td>0.250000</td>\n",
       "      <td>0.250000</td>\n",
       "    </tr>\n",
       "    <tr>\n",
       "      <th>1208</th>\n",
       "      <td>0.838646</td>\n",
       "      <td>0.392099</td>\n",
       "      <td>-0.694658</td>\n",
       "      <td>-0.719340</td>\n",
       "      <td>0.541667</td>\n",
       "      <td>0.541667</td>\n",
       "    </tr>\n",
       "  </tbody>\n",
       "</table>\n",
       "</div>"
      ],
      "text/plain": [
       "         ballX     ballY  velocityX  velocityY  paddlePos1  paddlePos2\n",
       "878   0.500000  0.500000  -0.939693  -0.342020    0.500000    0.500000\n",
       "413   0.391858  0.458654  -0.961262  -0.275637    0.500000    0.500000\n",
       "75    0.968750  0.803109  -0.500000   0.866025    0.666667    0.666667\n",
       "1622  0.088905  0.255958  -0.913545  -0.406737    0.250000    0.250000\n",
       "1208  0.838646  0.392099  -0.694658  -0.719340    0.541667    0.541667"
      ]
     },
     "execution_count": 192,
     "metadata": {},
     "output_type": "execute_result"
    }
   ],
   "source": [
    "X.head()"
   ]
  },
  {
   "cell_type": "code",
   "execution_count": 193,
   "metadata": {},
   "outputs": [
    {
     "data": {
      "text/plain": [
       "878     nothing\n",
       "413     nothing\n",
       "75      nothing\n",
       "1622    nothing\n",
       "1208    nothing\n",
       "Name: action, dtype: category\n",
       "Categories (3, object): ['down', 'nothing', 'up']"
      ]
     },
     "execution_count": 193,
     "metadata": {},
     "output_type": "execute_result"
    }
   ],
   "source": [
    "y.head()"
   ]
  },
  {
   "cell_type": "code",
   "execution_count": 194,
   "metadata": {},
   "outputs": [
    {
     "data": {
      "text/plain": [
       "['nothing', 'nothing', 'nothing', 'nothing', 'nothing', ..., 'down', 'down', 'down', 'down', 'down']\n",
       "Length: 1055\n",
       "Categories (3, object): ['down', 'nothing', 'up']"
      ]
     },
     "execution_count": 194,
     "metadata": {},
     "output_type": "execute_result"
    }
   ],
   "source": [
    "y.values"
   ]
  },
  {
   "cell_type": "code",
   "execution_count": 195,
   "metadata": {},
   "outputs": [],
   "source": [
    "X_train, X_test, y_train, y_test = train_test_split(X, y, test_size=0.2, random_state=42)"
   ]
  },
  {
   "cell_type": "code",
   "execution_count": 196,
   "metadata": {},
   "outputs": [
    {
     "data": {
      "text/plain": [
       "array([[-0.8274886 , -0.25488177, -1.3991463 , -0.04858106, -0.37722465,\n",
       "        -0.37722465],\n",
       "       [-0.04080316, -0.39001167, -1.0098118 , -0.5940143 , -0.19350986,\n",
       "        -0.19350986],\n",
       "       [-0.4452511 , -1.1320022 , -0.02550229, -1.0490594 ,  1.6436371 ,\n",
       "         1.6436371 ],\n",
       "       ...,\n",
       "       [ 1.2838287 ,  1.6257343 ,  0.6206854 , -1.2281241 ,  0.90877813,\n",
       "         0.90877813],\n",
       "       [-1.4228243 ,  1.3018696 ,  0.46828625, -1.1907568 ,  1.8273518 ,\n",
       "         1.8273518 ],\n",
       "       [ 0.12878363, -0.32342294, -1.0098118 , -0.5940143 , -0.00979522,\n",
       "        -0.00979522]], dtype=float32)"
      ]
     },
     "execution_count": 196,
     "metadata": {},
     "output_type": "execute_result"
    }
   ],
   "source": [
    "scaler = StandardScaler()\n",
    "scaler.fit(X_train)\n",
    "scaler.transform(X_train)\n",
    "scaler.transform(X_test)"
   ]
  },
  {
   "cell_type": "code",
   "execution_count": 197,
   "metadata": {},
   "outputs": [
    {
     "data": {
      "text/plain": [
       "0.32701421800947866"
      ]
     },
     "execution_count": 197,
     "metadata": {},
     "output_type": "execute_result"
    }
   ],
   "source": [
    "dummy_clf = DummyClassifier(strategy=\"most_frequent\")\n",
    "dummy_clf.fit(X_train, y_train)\n",
    "dummy_clf.predict(X_test)\n",
    "dummy_clf.score(X_test, y_test)"
   ]
  },
  {
   "cell_type": "code",
   "execution_count": 198,
   "metadata": {},
   "outputs": [],
   "source": [
    "estimator_KNN = KNeighborsClassifier(algorithm='auto')"
   ]
  },
  {
   "cell_type": "code",
   "execution_count": 199,
   "metadata": {},
   "outputs": [
    {
     "name": "stdout",
     "output_type": "stream",
     "text": [
      "{'leaf_size': 12, 'metric': 'minkowski', 'n_neighbors': 1, 'p': 1, 'weights': 'uniform'}\n",
      "Best Score - KNN: 0.8175542406311637\n"
     ]
    }
   ],
   "source": [
    "parameters_KNN = {\n",
    "    'n_neighbors': (1,2,4,8,10,12,16,24),\n",
    "    'leaf_size': (1, 4, 8, 12, 16, 20),\n",
    "    'p': (1,2),\n",
    "    'weights': ('uniform', 'distance'),\n",
    "    'metric': ('minkowski', 'chebyshev')}\n",
    "                   \n",
    "grid_search_KNN = GridSearchCV(\n",
    "    estimator=estimator_KNN,\n",
    "    param_grid=parameters_KNN,\n",
    "    scoring = 'f1_micro',\n",
    "    n_jobs = -1,\n",
    "    cv = 5\n",
    ")\n",
    "grid_search_KNN.fit(X_train, y_train)\n",
    "print(grid_search_KNN.best_params_ )\n",
    "print('Best Score - KNN:', grid_search_KNN.best_score_ )"
   ]
  },
  {
   "cell_type": "code",
   "execution_count": 203,
   "metadata": {},
   "outputs": [
    {
     "data": {
      "text/plain": [
       "KNeighborsClassifier(leaf_size=12, n_neighbors=1, p=1)"
      ]
     },
     "execution_count": 203,
     "metadata": {},
     "output_type": "execute_result"
    }
   ],
   "source": [
    "knn = KNeighborsClassifier(leaf_size=12, metric='minkowski', n_neighbors=1, p=1, weights='uniform')\n",
    "knn.fit(X_train, y_train)"
   ]
  },
  {
   "cell_type": "code",
   "execution_count": 204,
   "metadata": {},
   "outputs": [],
   "source": [
    "y_pred = knn.predict(X_test)"
   ]
  },
  {
   "cell_type": "code",
   "execution_count": 206,
   "metadata": {},
   "outputs": [
    {
     "name": "stdout",
     "output_type": "stream",
     "text": [
      "test accuracy score: 0.78\n",
      "test f1 score: 0.78\n"
     ]
    }
   ],
   "source": [
    "accuracy = accuracy_score(y_test, y_pred)\n",
    "f1 = f1_score(y_test, y_pred, average='micro')\n",
    "print (\"test accuracy score: %.2f\" % accuracy)\n",
    "print (\"test f1 score: %.2f\" % f1)"
   ]
  },
  {
   "cell_type": "code",
   "execution_count": null,
   "metadata": {},
   "outputs": [],
   "source": []
  }
 ],
 "metadata": {
  "interpreter": {
   "hash": "2b9844c8fe5ec909c8fd2048dea306cfac17da614d292d3bc6d3ce057d427cc5"
  },
  "kernelspec": {
   "display_name": "Python 3",
   "language": "python",
   "name": "python3"
  },
  "language_info": {
   "codemirror_mode": {
    "name": "ipython",
    "version": 3
   },
   "file_extension": ".py",
   "mimetype": "text/x-python",
   "name": "python",
   "nbconvert_exporter": "python",
   "pygments_lexer": "ipython3",
   "version": "3.7.9"
  }
 },
 "nbformat": 4,
 "nbformat_minor": 4
}
